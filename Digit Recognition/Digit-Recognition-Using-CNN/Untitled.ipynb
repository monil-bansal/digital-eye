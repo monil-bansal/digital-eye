{
 "cells": [
  {
   "cell_type": "code",
   "execution_count": 12,
   "metadata": {},
   "outputs": [],
   "source": [
    "import cv2\n",
    "import numpy as np\n",
    "from keras.datasets import mnist\n",
    "from keras.layers import Dense, Flatten, MaxPooling2D, Dropout\n",
    "from keras.layers.convolutional import Conv2D\n",
    "from keras.models import Sequential\n",
    "from keras.utils import to_categorical\n",
    "import matplotlib.pyplot as plt"
   ]
  },
  {
   "cell_type": "code",
   "execution_count": 13,
   "metadata": {},
   "outputs": [],
   "source": [
    "def dataLoading():\n",
    "    (X_train, y_train), (X_test, y_test) = mnist.load_data()\n",
    "    X_train = X_train.reshape(60000, 28, 28, 1)\n",
    "    X_test = X_test.reshape(10000, 28, 28, 1)\n",
    "    y_train = to_categorical(y_train)\n",
    "    y_test = to_categorical(y_test)\n",
    "    return (X_train,y_train,X_test, y_test)"
   ]
  },
  {
   "cell_type": "code",
   "execution_count": 14,
   "metadata": {},
   "outputs": [],
   "source": [
    "def modelBuilding():\n",
    "    model = Sequential()\n",
    "\n",
    "## Declare the layers\n",
    "    layer_1 = Conv2D(64, kernel_size=3, activation='relu', input_shape=(28, 28, 1))\n",
    "    layer_2 = MaxPooling2D(pool_size=2)\n",
    "    layer_3 = Conv2D(32, kernel_size=3, activation='relu')\n",
    "    layer_4 = MaxPooling2D(pool_size=2)\n",
    "    layer_5 = Dropout(0.5)\n",
    "    layer_6 = Flatten()\n",
    "    layer_7 = Dense(128, activation=\"relu\")\n",
    "    layer_8 = Dropout(0.5)\n",
    "    layer_9 = Dense(10, activation='softmax')\n",
    "\n",
    "    ## Add the layers to the model\n",
    "    model.add(layer_1)\n",
    "    model.add(layer_2)\n",
    "    model.add(layer_3)\n",
    "    model.add(layer_4)\n",
    "    model.add(layer_5)\n",
    "    model.add(layer_6)\n",
    "    model.add(layer_7)\n",
    "    model.add(layer_8)\n",
    "    model.add(layer_9)\n",
    "    return model\n"
   ]
  },
  {
   "cell_type": "code",
   "execution_count": 15,
   "metadata": {},
   "outputs": [],
   "source": [
    "def train():\n",
    "    model  = modelBuilding()\n",
    "    model.compile(optimizer='adam', loss='categorical_crossentropy', metrics=['accuracy'])\n",
    "    (X_train,y_train,X_test,y_test) = dataLoading()\n",
    "    model.fit(X_train, y_train, validation_data=(X_test, y_test), epochs=3)\n",
    "    return model"
   ]
  },
  {
   "cell_type": "code",
   "execution_count": 16,
   "metadata": {},
   "outputs": [],
   "source": [
    "def captureImage():\n",
    "    image = cv2.imread('./5.jpg')\n",
    "    grey = cv2.cvtColor(image.copy(), cv2.COLOR_BGR2GRAY)\n",
    "\n",
    "    ret, thresh = cv2.threshold(grey.copy(), 75, 255, cv2.THRESH_BINARY_INV)\n",
    "    contours,_= cv2.findContours(thresh.copy(), cv2.RETR_EXTERNAL, cv2.CHAIN_APPROX_SIMPLE)\n",
    "\n",
    "    preprocessed_digits = []\n",
    "\n",
    "    for c in contours:\n",
    "        x,y,w,h = cv2.boundingRect(c)\n",
    "\n",
    "        # Creating a rectangle around the digit in the original image (for displaying the digits fetched via contours)\n",
    "        cv2.rectangle(image, (x,y), (x+w, y+h), color=(0, 255, 0), thickness=2)\n",
    "\n",
    "        # Cropping out the digit from the image corresponding to the current contours in the for loop\n",
    "        digit = thresh[y:y+h, x:x+w]\n",
    "\n",
    "        # Resizing that digit to (18, 18)\n",
    "        resized_digit = cv2.resize(digit, (18,18))\n",
    "\n",
    "        # Padding the digit with 5 pixels of black color (zeros) in each side to finally produce the image of (28, 28)\n",
    "        padded_digit = np.pad(resized_digit, ((5,5),(5,5)), \"constant\", constant_values=0)\n",
    "\n",
    "        # Adding the preprocessed digit to the list of preprocessed digits\n",
    "        preprocessed_digits.append(padded_digit)\n",
    "\n",
    "    print(\"\\n\\n\\n----------------Contoured Image--------------------\")\n",
    "    plt.imshow(image, cmap=\"gray\")\n",
    "    plt.show()\n",
    "\n",
    "    inp = np.array(preprocessed_digits)\n",
    "    return preprocessed_digits"
   ]
  },
  {
   "cell_type": "code",
   "execution_count": 17,
   "metadata": {},
   "outputs": [],
   "source": [
    "def modelTrain():\n",
    "    preprocessed_digits = captureImage()\n",
    "    model = train()\n",
    "    for digit in preprocessed_digits:\n",
    "        prediction = model.predict(digit.reshape(1, 28, 28, 1))   \n",
    "        print (\"\\n\\n---------------------------------------\\n\\n\")\n",
    "        print (\"=========PREDICTION============ \\n\\n\")\n",
    "        plt.imshow(digit.reshape(28, 28), cmap=\"gray\")\n",
    "        plt.show()\n",
    "        print(\"\\n\\nFinal Output: {}\".format(np.argmax(prediction)))\n",
    "        print (\"\\nPrediction (Softmax) from the neural network:\\n\\n {}\".format(prediction))\n",
    "        hard_maxed_prediction = np.zeros(prediction.shape)\n",
    "        hard_maxed_prediction[0][np.argmax(prediction)] = 1\n",
    "        print (\"\\n\\nHard-maxed form of the prediction: \\n\\n {}\".format(hard_maxed_prediction))\n",
    "        print (\"\\n\\n---------------------------------------\\n\\n\")"
   ]
  }
 ],
 "metadata": {
  "kernelspec": {
   "display_name": "Python 3",
   "language": "python",
   "name": "python3"
  },
  "language_info": {
   "codemirror_mode": {
    "name": "ipython",
    "version": 3
   },
   "file_extension": ".py",
   "mimetype": "text/x-python",
   "name": "python",
   "nbconvert_exporter": "python",
   "pygments_lexer": "ipython3",
   "version": "3.8.2"
  }
 },
 "nbformat": 4,
 "nbformat_minor": 4
}
