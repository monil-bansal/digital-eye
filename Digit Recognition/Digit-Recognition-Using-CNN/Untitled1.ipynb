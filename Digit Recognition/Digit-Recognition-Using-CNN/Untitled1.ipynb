{
 "cells": [
  {
   "cell_type": "code",
   "execution_count": 5,
   "metadata": {},
   "outputs": [],
   "source": [
    "import pandas as pd\n",
    "import numpy as np\n",
    "from sklearn.preprocessing import StandardScaler\n",
    "from keras.layers import Dense, Flatten, MaxPooling2D, Dropout\n",
    "from keras.layers.convolutional import Conv2D\n",
    "from keras.models import Sequential\n",
    "from keras.utils import to_categorical\n",
    "from keras.datasets import mnist\n",
    "import cv2\n",
    "import matplotlib.pyplot as plt\n",
    "from gtts import gTTS\n",
    "import os\n",
    "import playsound\n"
   ]
  },
  {
   "cell_type": "code",
   "execution_count": 3,
   "metadata": {},
   "outputs": [
    {
     "ename": "ModuleNotFoundError",
     "evalue": "No module named 'searchtype'",
     "output_type": "error",
     "traceback": [
      "\u001b[1;31m---------------------------------------------------------------------------\u001b[0m",
      "\u001b[1;31mModuleNotFoundError\u001b[0m                       Traceback (most recent call last)",
      "\u001b[1;32m<ipython-input-3-6d2bddf0796f>\u001b[0m in \u001b[0;36m<module>\u001b[1;34m\u001b[0m\n\u001b[1;32m----> 1\u001b[1;33m \u001b[1;32mfrom\u001b[0m \u001b[0msearchtype\u001b[0m \u001b[1;32mimport\u001b[0m \u001b[0mchoice\u001b[0m\u001b[1;33m,\u001b[0m \u001b[0muniform\u001b[0m\u001b[1;33m,\u001b[0m \u001b[0mloguniform\u001b[0m\u001b[1;33m\u001b[0m\u001b[1;33m\u001b[0m\u001b[0m\n\u001b[0m\u001b[0;32m      2\u001b[0m \u001b[1;32mfrom\u001b[0m \u001b[0mmodel_PSO\u001b[0m \u001b[1;32mimport\u001b[0m \u001b[0mmodel\u001b[0m\u001b[1;33m\u001b[0m\u001b[1;33m\u001b[0m\u001b[0m\n",
      "\u001b[1;31mModuleNotFoundError\u001b[0m: No module named 'searchtype'"
     ]
    }
   ],
   "source": [
    "from searchtype import choice, uniform, loguniform\n",
    "from model_PSO import model"
   ]
  },
  {
   "cell_type": "code",
   "execution_count": 2,
   "metadata": {},
   "outputs": [
    {
     "name": "stdout",
     "output_type": "stream",
     "text": [
      "Epoch 1/3\n",
      "1875/1875 [==============================] - 49s 26ms/step - loss: 0.8097 - accuracy: 0.7874 - val_loss: 0.1093 - val_accuracy: 0.9662\n",
      "Epoch 2/3\n",
      "1875/1875 [==============================] - 50s 27ms/step - loss: 0.2684 - accuracy: 0.9206 - val_loss: 0.0789 - val_accuracy: 0.9768\n",
      "Epoch 3/3\n",
      "1875/1875 [==============================] - 54s 29ms/step - loss: 0.2079 - accuracy: 0.9382 - val_loss: 0.0601 - val_accuracy: 0.9800\n"
     ]
    },
    {
     "data": {
      "text/plain": [
       "<tensorflow.python.keras.callbacks.History at 0x224d4859c70>"
      ]
     },
     "execution_count": 2,
     "metadata": {},
     "output_type": "execute_result"
    }
   ],
   "source": [
    "model = Sequential()\n",
    "\n",
    "## Declare the layers\n",
    "layer_1 = Conv2D(64, kernel_size=3, activation='relu', input_shape=(28, 28, 1))\n",
    "layer_2 = MaxPooling2D(pool_size=2)\n",
    "layer_3 = Conv2D(32, kernel_size=3, activation='relu')\n",
    "layer_4 = MaxPooling2D(pool_size=2)\n",
    "layer_5 = Dropout(0.5)\n",
    "layer_6 = Flatten()\n",
    "layer_7 = Dense(128, activation=\"relu\")\n",
    "layer_8 = Dropout(0.5)\n",
    "layer_9 = Dense(10, activation='softmax')\n",
    "\n",
    "## Add the layers to the model\n",
    "model.add(layer_1)\n",
    "model.add(layer_2)\n",
    "model.add(layer_3)\n",
    "model.add(layer_4)\n",
    "model.add(layer_5)\n",
    "model.add(layer_6)\n",
    "model.add(layer_7)\n",
    "model.add(layer_8)\n",
    "model.add(layer_9)\n",
    "\n",
    "model.compile(optimizer='adam', loss='categorical_crossentropy', metrics=['accuracy'])\n",
    "\n",
    "(X_train, y_train), (X_test, y_test) = mnist.load_data()\n",
    "X_train = X_train.reshape(60000, 28, 28, 1)\n",
    "X_test = X_test.reshape(10000, 28, 28, 1)\n",
    "y_train = to_categorical(y_train)\n",
    "y_test = to_categorical(y_test)\n",
    "\n",
    "model.fit(X_train, y_train, validation_data=(X_test, y_test), epochs=3)"
   ]
  },
  {
   "cell_type": "code",
   "execution_count": 3,
   "metadata": {},
   "outputs": [
    {
     "name": "stdout",
     "output_type": "stream",
     "text": [
      "\n",
      "\n",
      "\n",
      "----------------Contoured Image--------------------\n"
     ]
    },
    {
     "data": {
      "image/png": "[encoded data removed]",
      "text/plain": [
       "<Figure size 432x288 with 1 Axes>"
      ]
     },
     "metadata": {
      "needs_background": "light"
     },
     "output_type": "display_data"
    },
    {
     "name": "stdout",
     "output_type": "stream",
     "text": [
      "\n",
      "\n",
      "---------------------------------------\n",
      "\n",
      "\n",
      "=========PREDICTION============ \n",
      "\n",
      "\n"
     ]
    },
    {
     "data": {
      "image/png": "[encoded data removed]",
      "text/plain": [
       "<Figure size 432x288 with 1 Axes>"
      ]
     },
     "metadata": {
      "needs_background": "light"
     },
     "output_type": "display_data"
    },
    {
     "name": "stdout",
     "output_type": "stream",
     "text": [
      "\n",
      "\n",
      "Final Output: 5\n",
      "\n",
      "Prediction (Softmax) from the neural network:\n",
      "\n",
      " [[6.5953722e-09 1.8730073e-08 9.8027619e-12 1.0011175e-04 1.0634792e-11\n",
      "  9.9989820e-01 6.9287404e-07 6.3010527e-11 8.5849899e-07 1.7271557e-07]]\n",
      "\n",
      "\n",
      "Hard-maxed form of the prediction: \n",
      "\n",
      " [[0. 0. 0. 0. 0. 1. 0. 0. 0. 0.]]\n",
      "\n",
      "\n",
      "---------------------------------------\n",
      "\n",
      "\n"
     ]
    }
   ],
   "source": [
    "image = cv2.imread('./5.jpg')\n",
    "grey = cv2.cvtColor(image.copy(), cv2.COLOR_BGR2GRAY)\n",
    "\n",
    "ret, thresh = cv2.threshold(grey.copy(), 75, 255, cv2.THRESH_BINARY_INV)\n",
    "contours,_= cv2.findContours(thresh.copy(), cv2.RETR_EXTERNAL, cv2.CHAIN_APPROX_SIMPLE)\n",
    "\n",
    "preprocessed_digits = []\n",
    "\n",
    "for c in contours:\n",
    "    x,y,w,h = cv2.boundingRect(c)\n",
    "\n",
    "    cv2.rectangle(image, (x,y), (x+w, y+h), color=(0, 255, 0), thickness=2)\n",
    "\n",
    "    digit = thresh[y:y+h, x:x+w]\n",
    "\n",
    "    resized_digit = cv2.resize(digit, (18,18))\n",
    "\n",
    "    padded_digit = np.pad(resized_digit, ((5,5),(5,5)), \"constant\", constant_values=0)\n",
    "    \n",
    "    preprocessed_digits.append(padded_digit)\n",
    "\n",
    "print(\"\\n\\n\\n----------------Contoured Image--------------------\")\n",
    "plt.imshow(image, cmap=\"gray\")\n",
    "plt.show()\n",
    "\n",
    "inp = np.array(preprocessed_digits)\n",
    "final_output = 0\n",
    "for digit in preprocessed_digits:\n",
    "    prediction = model.predict(digit.reshape(1, 28, 28, 1))   \n",
    "    print (\"\\n\\n---------------------------------------\\n\\n\")\n",
    "    print (\"=========PREDICTION============ \\n\\n\")\n",
    "    plt.imshow(digit.reshape(28, 28), cmap=\"gray\")\n",
    "    plt.show()\n",
    "    final_output = np.argmax(prediction)\n",
    "    print(\"\\n\\nFinal Output: {}\".format(np.argmax(prediction)))\n",
    "    print (\"\\nPrediction (Softmax) from the neural network:\\n\\n {}\".format(prediction))\n",
    "    hard_maxed_prediction = np.zeros(prediction.shape)\n",
    "    hard_maxed_prediction[0][np.argmax(prediction)] = 1\n",
    "    print (\"\\n\\nHard-maxed form of the prediction: \\n\\n {}\".format(hard_maxed_prediction))\n",
    "    print (\"\\n\\n---------------------------------------\\n\\n\")"
   ]
  },
  {
   "cell_type": "code",
   "execution_count": 4,
   "metadata": {},
   "outputs": [
    {
     "data": {
      "text/plain": [
       "5"
      ]
     },
     "execution_count": 4,
     "metadata": {},
     "output_type": "execute_result"
    }
   ],
   "source": []
  },
  {
   "cell_type": "code",
   "execution_count": 8,
   "metadata": {},
   "outputs": [],
   "source": [
    "obj = gTTS(text=str(final_output), lang='en', slow = False)\n",
    "obj.save(\"speech.mp3\")\n",
    "playsound.playsound('./speech.mp3', True)\n",
    "os.remove(\"./speech.mp3\")"
   ]
  },
  {
   "cell_type": "code",
   "execution_count": null,
   "metadata": {},
   "outputs": [],
   "source": []
  }
 ],
 "metadata": {
  "kernelspec": {
   "display_name": "Python 3",
   "language": "python",
   "name": "python3"
  },
  "language_info": {
   "codemirror_mode": {
    "name": "ipython",
    "version": 3
   },
   "file_extension": ".py",
   "mimetype": "text/x-python",
   "name": "python",
   "nbconvert_exporter": "python",
   "pygments_lexer": "ipython3",
   "version": "3.8.2"
  }
 },
 "nbformat": 4,
 "nbformat_minor": 4
}
